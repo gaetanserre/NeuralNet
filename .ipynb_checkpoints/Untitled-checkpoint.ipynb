{
 "cells": [
  {
   "cell_type": "code",
   "execution_count": 1,
   "id": "ad0b855c-ca96-4404-8a3a-4633ba509ff1",
   "metadata": {},
   "outputs": [
    {
     "name": "stdout",
     "output_type": "stream",
     "text": [
      "INFO:tensorflow:Enabling eager execution\n",
      "INFO:tensorflow:Enabling v2 tensorshape\n",
      "INFO:tensorflow:Enabling resource variables\n",
      "INFO:tensorflow:Enabling tensor equality\n",
      "INFO:tensorflow:Enabling control flow v2\n"
     ]
    }
   ],
   "source": [
    "import tensorflow as tf\n",
    "from tensorflow import keras\n",
    "from tensorflow.keras import layers\n",
    "import numpy as np"
   ]
  },
  {
   "cell_type": "code",
   "execution_count": 2,
   "id": "881ea564-a009-4f65-aab7-7029d4a9e6b6",
   "metadata": {},
   "outputs": [
    {
     "name": "stdout",
     "output_type": "stream",
     "text": [
      "Model: \"model\"\n",
      "_________________________________________________________________\n",
      "Layer (type)                 Output Shape              Param #   \n",
      "=================================================================\n",
      "input_1 (InputLayer)         [(None, 2)]               0         \n",
      "_________________________________________________________________\n",
      "dense (Dense)                (None, 2)                 6         \n",
      "_________________________________________________________________\n",
      "dense_1 (Dense)              (None, 1)                 3         \n",
      "=================================================================\n",
      "Total params: 9\n",
      "Trainable params: 9\n",
      "Non-trainable params: 0\n",
      "_________________________________________________________________\n"
     ]
    }
   ],
   "source": [
    "input = tf.keras.Input(shape=(2,))\n",
    "output = layers.Dense(64, activation='tanh')(input)\n",
    "output = layers.Dense(256, activation='softplus')(output)\n",
    "output = layers.Dense(1)(output)\n",
    "model = keras.Model(inputs=input, outputs=output)\n",
    "model.compile(loss='mean_absolute_error', optimizer='adam')\n",
    "model.summary()"
   ]
  },
  {
   "cell_type": "code",
   "execution_count": 3,
   "id": "e26b7e2c-3c45-4960-baea-3674e43bd90b",
   "metadata": {},
   "outputs": [
    {
     "name": "stdout",
     "output_type": "stream",
     "text": [
      "[763 151]\n"
     ]
    },
    {
     "data": {
      "text/plain": [
       "array([[0.02955437]], dtype=float32)"
      ]
     },
     "execution_count": 3,
     "metadata": {},
     "output_type": "execute_result"
    }
   ],
   "source": [
    "t = np.random.randint(1000, size=2)\n",
    "print(t)\n",
    "model.predict(t.reshape(1,-1))"
   ]
  },
  {
   "cell_type": "code",
   "execution_count": 4,
   "id": "4481c0ea-632b-48ad-b9a8-3b4a2cc31a82",
   "metadata": {},
   "outputs": [
    {
     "data": {
      "text/plain": [
       "'tanh'"
      ]
     },
     "execution_count": 4,
     "metadata": {},
     "output_type": "execute_result"
    }
   ],
   "source": [
    "model.layers[1].get_config()['activation']"
   ]
  },
  {
   "cell_type": "code",
   "execution_count": 5,
   "id": "65562237-7126-4598-8a57-bbcb008dd2c6",
   "metadata": {},
   "outputs": [],
   "source": [
    "def saveTFModel(model, output_path):\n",
    "    s = \"\"\n",
    "    for layer in model.layers:\n",
    "        w = layer.get_weights()\n",
    "        if len(w) > 1:\n",
    "            s += f\"layer {layer.get_config()['activation']}\\n\"\n",
    "            weights = w[0]\n",
    "            bias = w[1]\n",
    "\n",
    "            dimensions = len(weights)\n",
    "            nb_neurons = len(weights[0])\n",
    "\n",
    "            if nb_neurons == 1:\n",
    "                for i in range(dimensions):\n",
    "                    s += str(weights[i][0]) + \" \"\n",
    "                s+= str(bias[0]) + \"\\n\"\n",
    "\n",
    "            else:\n",
    "                for i in range(nb_neurons):\n",
    "                    w = []\n",
    "                    for j in range(dimensions):\n",
    "                        s += str(weights[j][i]) + \" \"\n",
    "                    s+= str(bias[i]) + \"\\n\"\n",
    "    f = open(output_path, \"w\")\n",
    "    f.write(s)\n",
    "    f.close()"
   ]
  },
  {
   "cell_type": "code",
   "execution_count": 6,
   "id": "1fa9abf3-0534-4da9-a9f1-3c9d6b4f7b81",
   "metadata": {},
   "outputs": [],
   "source": [
    "saveTFModel(model, \"weights.txt\")"
   ]
  }
 ],
 "metadata": {
  "kernelspec": {
   "display_name": "Python 3",
   "language": "python",
   "name": "python3"
  },
  "language_info": {
   "codemirror_mode": {
    "name": "ipython",
    "version": 3
   },
   "file_extension": ".py",
   "mimetype": "text/x-python",
   "name": "python",
   "nbconvert_exporter": "python",
   "pygments_lexer": "ipython3",
   "version": "3.9.4"
  }
 },
 "nbformat": 4,
 "nbformat_minor": 5
}
